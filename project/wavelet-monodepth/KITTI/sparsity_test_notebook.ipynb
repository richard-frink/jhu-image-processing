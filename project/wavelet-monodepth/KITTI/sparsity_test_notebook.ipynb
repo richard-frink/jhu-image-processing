{
 "cells": [
  {
   "cell_type": "markdown",
   "metadata": {},
   "source": [
    "# MDP Wavelet"
   ]
  },
  {
   "cell_type": "code",
   "execution_count": 1,
   "metadata": {},
   "outputs": [],
   "source": [
    "import os\n",
    "import time\n",
    "import matplotlib.pyplot as plt\n",
    "#%matplotlib notebook\n",
    "\n",
    "from collections import OrderedDict\n",
    "\n",
    "\n",
    "import torch\n",
    "import torch.nn as nn\n",
    "import torch.nn.functional as F\n",
    "import numpy as np\n",
    "\n",
    "import torchvision.models as torch_models\n",
    "import torch.utils.model_zoo as model_zoo\n",
    "\n",
    "from PIL import Image\n",
    "from torchvision import transforms as T\n",
    "\n",
    "from pytorch_wavelets import IDWT"
   ]
  },
  {
   "cell_type": "code",
   "execution_count": 2,
   "metadata": {},
   "outputs": [],
   "source": [
    "from networks.decoders import DepthWaveProgressiveDecoder, SparseDepthWaveProgressiveDecoder\n",
    "from networks.encoders import *"
   ]
  },
  {
   "cell_type": "markdown",
   "metadata": {},
   "source": [
    "## Build Network"
   ]
  },
  {
   "cell_type": "code",
   "execution_count": 3,
   "metadata": {},
   "outputs": [],
   "source": [
    "class DenseModel(nn.Module):\n",
    "    def __init__(self, num_layers, output_scales, device=\"cpu\"):\n",
    "        super(DenseModel, self).__init__()\n",
    "        device = torch.device(\"cpu\" if device==\"cpu\" else \"cuda\")\n",
    "        self.models = {}\n",
    "        self.models[\"encoder\"] = ResnetEncoder(num_layers, False)\n",
    "        self.models[\"depth\"] = DepthWaveProgressiveDecoder(\n",
    "                        self.models[\"encoder\"].num_ch_enc, scales=output_scales)       \n",
    "        \n",
    "        self.models[\"encoder\"].to(device)\n",
    "        self.models[\"depth\"].to(device)\n",
    "    \n",
    "    def forward(self, x):\n",
    "        features_encoder = self.models[\"encoder\"](x)\n",
    "        outputs = self.models[\"depth\"](features_encoder)\n",
    "        return outputs\n",
    "\n",
    "    \n",
    "class SparseModel(nn.Module):\n",
    "    def __init__(self, num_layers, output_scales, sparse_scales, device=\"cpu\"):\n",
    "        super(SparseModel, self).__init__()\n",
    "        device = torch.device(\"cpu\" if device==\"cpu\" else \"cuda\")\n",
    "        self.models = {}\n",
    "        self.models[\"encoder\"] = ResnetEncoder(num_layers, False)\n",
    "        self.models[\"depth\"] = SparseDepthWaveProgressiveDecoder(\n",
    "                        self.models[\"encoder\"].num_ch_enc, scales=output_scales)       \n",
    "        \n",
    "        self.models[\"encoder\"].to(device)\n",
    "        self.models[\"depth\"].to(device)\n",
    "        self.sparse_scales = sparse_scales\n",
    "    \n",
    "    def forward(self, x, thresh_ratio):\n",
    "        features_encoder = self.models[\"encoder\"](x)\n",
    "        outputs = self.models[\"depth\"](features_encoder, thresh_ratio, sparse_scales)\n",
    "        return outputs\n",
    "        "
   ]
  },
  {
   "cell_type": "code",
   "execution_count": 4,
   "metadata": {},
   "outputs": [
    {
     "data": {
      "text/plain": [
       "SparseModel()"
      ]
     },
     "execution_count": 4,
     "metadata": {},
     "output_type": "execute_result"
    }
   ],
   "source": [
    "# Encoder Parameters\n",
    "num_layers = 50\n",
    "\n",
    "# Decoder Parameters\n",
    "output_scales = [0, 1, 2, 3]\n",
    "sparse_scales = [0, 1, 2, 3]\n",
    "\n",
    "device = \"cpu\"\n",
    "\n",
    "dense_model = DenseModel(num_layers, output_scales, device=device)\n",
    "dense_model.eval()\n",
    "sparse_model = SparseModel(num_layers, output_scales, sparse_scales, device=device)\n",
    "sparse_model.eval()"
   ]
  },
  {
   "cell_type": "code",
   "execution_count": 5,
   "metadata": {},
   "outputs": [],
   "source": [
    "def disp_to_depth(disp, min_depth, max_depth):\n",
    "    \"\"\"Convert network's sigmoid output into depth prediction\n",
    "    The formula for this conversion is given in the 'additional considerations'\n",
    "    section of the paper.\n",
    "    \"\"\"\n",
    "    min_disp = 1 / max_depth\n",
    "    max_disp = 1 / min_depth\n",
    "    scaled_disp = min_disp + (max_disp - min_disp) * disp\n",
    "    depth = 1 / scaled_disp\n",
    "    return scaled_disp, depth"
   ]
  },
  {
   "cell_type": "markdown",
   "metadata": {},
   "source": [
    "## load weights, set to eval()"
   ]
  },
  {
   "cell_type": "code",
   "execution_count": 6,
   "metadata": {},
   "outputs": [],
   "source": [
    "models_to_load = [\"encoder\", \"depth\"]\n",
    "\n",
    "def load_model(model, load_weights_folder):\n",
    "    \"\"\"Load model(s) from disk\n",
    "    \"\"\"\n",
    "    load_weights_folder = os.path.expanduser(load_weights_folder)\n",
    "\n",
    "    assert os.path.isdir(load_weights_folder), \\\n",
    "        \"Cannot find folder {}\".format(load_weights_folder)\n",
    "    print(\"loading model from folder {}\".format(load_weights_folder))    \n",
    "\n",
    "    for n in models_to_load:\n",
    "        print(\"Loading {} weights...\".format(n))\n",
    "        path = os.path.join(load_weights_folder, \"{}.pth\".format(n))\n",
    "        model_dict = model.models[n].state_dict()\n",
    "        pretrained_dict = torch.load(path, map_location={\"cuda:0\": \"cpu\"})\n",
    "        pretrained_dict = {k: v for k, v in pretrained_dict.items() if k in model_dict}\n",
    "        model_dict.update(pretrained_dict)\n",
    "        model.models[n].load_state_dict(model_dict)    "
   ]
  },
  {
   "cell_type": "code",
   "execution_count": 7,
   "metadata": {},
   "outputs": [
    {
     "name": "stdout",
     "output_type": "stream",
     "text": [
      "Loading weights for Dense model\n",
      "loading model from folder HR_Res50\n",
      "Loading encoder weights...\n",
      "Loading depth weights...\n",
      "Done\n",
      "Loading weights for Sparse model\n",
      "loading model from folder HR_Res50\n",
      "Loading encoder weights...\n",
      "Loading depth weights...\n",
      "Done\n"
     ]
    }
   ],
   "source": [
    "model_path = \"HR_Res50\"\n",
    "\n",
    "print(\"Loading weights for Dense model\")\n",
    "load_model(dense_model, model_path)\n",
    "dense_model.models[\"encoder\"].eval()\n",
    "print(\"Done\")\n",
    "\n",
    "print(\"Loading weights for Sparse model\")\n",
    "load_model(sparse_model, model_path)\n",
    "sparse_model.models[\"encoder\"].eval()\n",
    "print(\"Done\")"
   ]
  },
  {
   "cell_type": "markdown",
   "metadata": {},
   "source": [
    "# Test!"
   ]
  },
  {
   "cell_type": "code",
   "execution_count": 8,
   "metadata": {},
   "outputs": [],
   "source": [
    "image_path = \"../assets/kitti_test_sample.jpg\"\n",
    "\n",
    "to_tensor = T.ToTensor()\n",
    "resize = T.Resize((320, 1024), interpolation=T.InterpolationMode.BILINEAR, antialias=True)\n",
    "nnresize = T.Resize((320, 1024), interpolation=T.InterpolationMode.NEAREST)\n",
    "\n",
    "img = Image.open(image_path)\n",
    "def to_torch(img):\n",
    "    img_tensor = to_tensor(resize(img)).unsqueeze(0)\n",
    "    return img_tensor\n",
    "\n",
    "img_tensor = to_torch(img)\n",
    "if device==\"cuda\":\n",
    "    img_tensor = img_tensor.cuda()"
   ]
  },
  {
   "cell_type": "code",
   "execution_count": 9,
   "metadata": {},
   "outputs": [],
   "source": [
    "#plt.figure()\n",
    "#plt.imshow(img)"
   ]
  },
  {
   "cell_type": "code",
   "execution_count": 10,
   "metadata": {
    "scrolled": false
   },
   "outputs": [
    {
     "name": "stdout",
     "output_type": "stream",
     "text": [
      "sparse: 3\n"
     ]
    },
    {
     "name": "stderr",
     "output_type": "stream",
     "text": [
      "D:\\Anaconda3\\lib\\site-packages\\torch\\functional.py:445: UserWarning: torch.meshgrid: in an upcoming release, it will be required to pass the indexing argument. (Triggered internally at  ..\\aten\\src\\ATen\\native\\TensorShape.cpp:2157.)\n",
      "  return _VF.meshgrid(tensors, **kwargs)  # type: ignore[attr-defined]\n",
      "C:\\develop\\git\\jhu-image-processing\\project\\wavelet-monodepth\\KITTI\\layers.py:492: UserWarning: __floordiv__ is deprecated, and its behavior will change in a future version of pytorch. It currently rounds toward 0 (like the 'trunc' function NOT 'floor'). This results in incorrect rounding for negative values. To keep the current behavior, use torch.div(a, b, rounding_mode='trunc'), or for actual floor division, use torch.div(a, b, rounding_mode='floor').\n",
      "  coors = coors // 2\n"
     ]
    },
    {
     "name": "stdout",
     "output_type": "stream",
     "text": [
      "sparse: 2\n",
      "sparse: 1\n",
      "sparse: 3\n",
      "sparse: 2\n",
      "sparse: 1\n"
     ]
    }
   ],
   "source": [
    "threshold = 0.05\n",
    "with torch.no_grad():    \n",
    "    sparse_outputs = sparse_model(img_tensor, thresh_ratio=-1)\n",
    "    total_ops_dense = sparse_outputs[\"total_ops\"]\n",
    "    sparse_outputs = sparse_model(img_tensor, thresh_ratio=threshold)    "
   ]
  },
  {
   "cell_type": "markdown",
   "metadata": {},
   "source": [
    "### Profiling "
   ]
  },
  {
   "cell_type": "code",
   "execution_count": 13,
   "metadata": {},
   "outputs": [
    {
     "name": "stdout",
     "output_type": "stream",
     "text": [
      "\u001b[91m[WARN] Cannot find rule for <class 'pytorch_wavelets.dwt.transform2d.DWTInverse'>. Treat it as zero Macs and zero Params.\u001b[00m\n",
      "\u001b[91m[WARN] Cannot find rule for <class 'torch.nn.modules.padding.ReflectionPad2d'>. Treat it as zero Macs and zero Params.\u001b[00m\n",
      "[INFO] Register count_convNd() for <class 'torch.nn.modules.conv.Conv2d'>.\n",
      "\u001b[91m[WARN] Cannot find rule for <class 'layers.Conv3x3'>. Treat it as zero Macs and zero Params.\u001b[00m\n",
      "\u001b[91m[WARN] Cannot find rule for <class 'torch.nn.modules.activation.ELU'>. Treat it as zero Macs and zero Params.\u001b[00m\n",
      "\u001b[91m[WARN] Cannot find rule for <class 'torch.nn.modules.linear.Identity'>. Treat it as zero Macs and zero Params.\u001b[00m\n",
      "\u001b[91m[WARN] Cannot find rule for <class 'layers.ConvBlock'>. Treat it as zero Macs and zero Params.\u001b[00m\n",
      "\u001b[91m[WARN] Cannot find rule for <class 'layers.Conv1x1'>. Treat it as zero Macs and zero Params.\u001b[00m\n",
      "[INFO] Register count_relu() for <class 'torch.nn.modules.activation.LeakyReLU'>.\n",
      "\u001b[91m[WARN] Cannot find rule for <class 'torch.nn.modules.container.Sequential'>. Treat it as zero Macs and zero Params.\u001b[00m\n",
      "\u001b[91m[WARN] Cannot find rule for <class 'torch.nn.modules.container.ModuleList'>. Treat it as zero Macs and zero Params.\u001b[00m\n",
      "\u001b[91m[WARN] Cannot find rule for <class 'torch.nn.modules.activation.Sigmoid'>. Treat it as zero Macs and zero Params.\u001b[00m\n",
      "\u001b[91m[WARN] Cannot find rule for <class 'torch.nn.modules.activation.Tanh'>. Treat it as zero Macs and zero Params.\u001b[00m\n",
      "\u001b[91m[WARN] Cannot find rule for <class 'networks.decoders.depth_decoder.DepthWaveProgressiveDecoder'>. Treat it as zero Macs and zero Params.\u001b[00m\n"
     ]
    }
   ],
   "source": [
    "from thop import profile, clever_format\n",
    "from ptflops import get_model_complexity_info\n",
    "\n",
    "with torch.no_grad():\n",
    "    feature_maps = dense_model.models[\"encoder\"](img_tensor)\n",
    "    dense_macs_decoder, _ = profile(dense_model.models[\"depth\"], inputs=(feature_maps, ))"
   ]
  },
  {
   "cell_type": "code",
   "execution_count": 14,
   "metadata": {},
   "outputs": [
    {
     "name": "stdout",
     "output_type": "stream",
     "text": [
      "Dense operations                         GFLOPs  \n",
      "Decoder (thops)                          17.217\n",
      "Decoder (sparse_conv, thresh<0)          17.474\n",
      "=====================================\n",
      "Wavelets version operations              GFLOPs  \n",
      "Sparse operations                        7.682\n"
     ]
    }
   ],
   "source": [
    "print(\"{:<40} {:<8}\".format(\"Dense operations\", \"GFLOPs\"))\n",
    "print(\"{:<40} {:.3f}\".format(\"Decoder (thops) \", dense_macs_decoder / 10**9))\n",
    "print(\"{:<40} {:.3f}\".format(\"Decoder (sparse_conv, thresh<0) \", total_ops_dense / 10**9))\n",
    "\n",
    "print(\"=\"*37)\n",
    "print(\"{:<40} {:<8}\".format(\"Wavelets version operations\", \"GFLOPs\"))\n",
    "print(\"{:<40} {:.3f}\".format(\"Sparse operations \", sparse_outputs['total_ops'] / 10**9))"
   ]
  },
  {
   "cell_type": "markdown",
   "metadata": {},
   "source": [
    "# Visualization"
   ]
  },
  {
   "cell_type": "code",
   "execution_count": null,
   "metadata": {},
   "outputs": [],
   "source": [
    "import matplotlib.gridspec as gridspec\n",
    "fig = plt.figure(figsize=(11, 4))\n",
    "\n",
    "fig.tight_layout()\n",
    "\n",
    "def set_left_title(title):\n",
    "    ax = plt.gca()\n",
    "    ax.xaxis.set_ticklabels([])\n",
    "    ax.yaxis.set_ticklabels([])\n",
    "    plt.tick_params(axis = \"x\", which = \"both\", bottom = False, top = False)\n",
    "    plt.tick_params(axis = \"y\", which = \"both\", left = False, right = False)\n",
    "    plt.ylabel(title)\n",
    "    plt.box(on=None)\n",
    "\n",
    "wave_range = 0.1\n",
    "for i in range(4):\n",
    "    plt.subplot(5, 4, 1+i)\n",
    "    plt.imshow(sparse_outputs[('wavelet_mask', 3-i)][0,0])\n",
    "    plt.title(\"Scale 1/{}\".format(2**(3-i+1)))\n",
    "    plt.clim(0, 1)    \n",
    "    if i==0:\n",
    "        set_left_title(\"Mask\")\n",
    "    else:\n",
    "        plt.axis(\"off\")\n",
    "\n",
    "    coeffs = [\"LH\", \"HL\", \"HH\"]\n",
    "    for j in range(3):\n",
    "        plt.subplot(5,4,1+(4*j)+4+i)\n",
    "        plt.imshow(sparse_outputs[(\"wavelets\", 3-i, coeffs[j])][0,0],\n",
    "                   vmin=-wave_range/(2**i), vmax = wave_range/(2**i),\n",
    "                   cmap='gray')        \n",
    "        if i==0:\n",
    "            set_left_title(coeffs[j])\n",
    "        else:\n",
    "            plt.axis(\"off\")\n",
    "    plt.subplot(5, 4, 17+i)    \n",
    "    pred = sparse_outputs[('disp', 3-i)][0,0].numpy()/100\n",
    "    disp = pred\n",
    "    plt.imshow(disp, cmap=\"inferno\", vmin = np.percentile(disp, 1), vmax = np.percentile(disp, 99))\n",
    "    if i==0:\n",
    "        set_left_title(\"depth\")\n",
    "    else:\n",
    "        plt.axis(\"off\")\n",
    "    \n",
    "fig.subplots_adjust(wspace=0.05, hspace=0)\n"
   ]
  },
  {
   "cell_type": "code",
   "execution_count": null,
   "metadata": {},
   "outputs": [],
   "source": []
  }
 ],
 "metadata": {
  "kernelspec": {
   "display_name": "Python 3",
   "language": "python",
   "name": "python3"
  },
  "language_info": {
   "codemirror_mode": {
    "name": "ipython",
    "version": 3
   },
   "file_extension": ".py",
   "mimetype": "text/x-python",
   "name": "python",
   "nbconvert_exporter": "python",
   "pygments_lexer": "ipython3",
   "version": "3.8.8"
  }
 },
 "nbformat": 4,
 "nbformat_minor": 4
}
